{
 "cells": [
  {
   "cell_type": "code",
   "execution_count": 3,
   "id": "4106bf79",
   "metadata": {},
   "outputs": [],
   "source": [
    "import numpy as np\n",
    "import pandas as pd\n",
    "import sys \n",
    "import os\n",
    "from sklearn.feature_extraction.text import TfidfVectorizer\n",
    "from sklearn.metrics.pairwise import cosine_similarity, linear_kernel\n",
    "from pandas import DataFrame\n",
    "from bson import ObjectId "
   ]
  },
  {
   "cell_type": "code",
   "execution_count": 4,
   "id": "66c132ec",
   "metadata": {},
   "outputs": [
    {
     "ename": "ModuleNotFoundError",
     "evalue": "No module named 'app'",
     "output_type": "error",
     "traceback": [
      "\u001b[31m---------------------------------------------------------------------------\u001b[39m",
      "\u001b[31mModuleNotFoundError\u001b[39m                       Traceback (most recent call last)",
      "\u001b[36mCell\u001b[39m\u001b[36m \u001b[39m\u001b[32mIn[4]\u001b[39m\u001b[32m, line 2\u001b[39m\n\u001b[32m      1\u001b[39m sys.path.append(os.path.abspath(os.path.join(os.getcwd(), \u001b[33m\"\u001b[39m\u001b[33m../../..\u001b[39m\u001b[33m\"\u001b[39m)))\n\u001b[32m----> \u001b[39m\u001b[32m2\u001b[39m \u001b[38;5;28;01mfrom\u001b[39;00m\u001b[38;5;250m \u001b[39m\u001b[34;01mapp\u001b[39;00m\u001b[34;01m.\u001b[39;00m\u001b[34;01mdb\u001b[39;00m\u001b[34;01m.\u001b[39;00m\u001b[34;01msession\u001b[39;00m\u001b[38;5;250m \u001b[39m\u001b[38;5;28;01mimport\u001b[39;00m news_collection\n",
      "\u001b[31mModuleNotFoundError\u001b[39m: No module named 'app'"
     ]
    }
   ],
   "source": [
    "sys.path.append(os.path.abspath(os.path.join(os.getcwd(), \"../../..\")))\n",
    "from app.db.session import news_collection"
   ]
  },
  {
   "cell_type": "code",
   "execution_count": null,
   "id": "ae2eaf40",
   "metadata": {},
   "outputs": [
    {
     "data": {
      "text/html": [
       "<div>\n",
       "<style scoped>\n",
       "    .dataframe tbody tr th:only-of-type {\n",
       "        vertical-align: middle;\n",
       "    }\n",
       "\n",
       "    .dataframe tbody tr th {\n",
       "        vertical-align: top;\n",
       "    }\n",
       "\n",
       "    .dataframe thead th {\n",
       "        text-align: right;\n",
       "    }\n",
       "</style>\n",
       "<table border=\"1\" class=\"dataframe\">\n",
       "  <thead>\n",
       "    <tr style=\"text-align: right;\">\n",
       "      <th></th>\n",
       "      <th>_id</th>\n",
       "      <th>title</th>\n",
       "      <th>content</th>\n",
       "      <th>image</th>\n",
       "      <th>author</th>\n",
       "      <th>link</th>\n",
       "      <th>category</th>\n",
       "      <th>published_at</th>\n",
       "    </tr>\n",
       "  </thead>\n",
       "  <tbody>\n",
       "    <tr>\n",
       "      <th>0</th>\n",
       "      <td>68e24772c61b7a78edbf604b</td>\n",
       "      <td>“Би Ерөнхийлөгчтэй байнгын холбоотой ажилладаг...</td>\n",
       "      <td>УИХ-ын дарга Д.Амарбаясгалан сэтгүүлчдэд мэдээ...</td>\n",
       "      <td>https://mgl.gogo.mn/newsn/thumbnail/72/images/...</td>\n",
       "      <td>Г.Тэгшсүрэн</td>\n",
       "      <td>https://gogo.mn/r/n6l33y</td>\n",
       "      <td>Улс төр</td>\n",
       "      <td>2025-10-03</td>\n",
       "    </tr>\n",
       "    <tr>\n",
       "      <th>1</th>\n",
       "      <td>68e24776c61b7a78edbf604c</td>\n",
       "      <td>Д.Батлут: Чуулганы хуралдаандаа суухаар иртэл ...</td>\n",
       "      <td>УИХ-ын чуулганы хуралдаан долоо хоног бүрийн п...</td>\n",
       "      <td>https://mgl.gogo.mn/newsn/thumbnail/72/images/...</td>\n",
       "      <td>Г.Тэгшсүрэн</td>\n",
       "      <td>https://gogo.mn/r/4m0oon</td>\n",
       "      <td>Улс төр</td>\n",
       "      <td>2025-10-03</td>\n",
       "    </tr>\n",
       "    <tr>\n",
       "      <th>2</th>\n",
       "      <td>68e24779c61b7a78edbf604d</td>\n",
       "      <td>Туркийн Үндэсний Батлан хамгаалахын сайд Монго...</td>\n",
       "      <td>Турк Улсын Үндэсний Батлан хамгаалахын сайд Яш...</td>\n",
       "      <td>https://mgl.gogo.mn/newsn/thumbnail/72/images/...</td>\n",
       "      <td>А.Номин</td>\n",
       "      <td>https://gogo.mn/r/j0eww6</td>\n",
       "      <td>Улс төр</td>\n",
       "      <td>2025-10-03</td>\n",
       "    </tr>\n",
       "    <tr>\n",
       "      <th>3</th>\n",
       "      <td>68e2477dc61b7a78edbf604e</td>\n",
       "      <td>Канад, Ираны Элчин сайд нар Итгэмжлэх жуух бич...</td>\n",
       "      <td>Ерөнхийлөгч У.Хүрэлсүхэд Канад, Иран улсын Элч...</td>\n",
       "      <td>https://mgl.gogo.mn/newsn/thumbnail/1000/image...</td>\n",
       "      <td>А.Номин</td>\n",
       "      <td>https://gogo.mn/r/gej115</td>\n",
       "      <td>Улс төр</td>\n",
       "      <td>2025-10-03</td>\n",
       "    </tr>\n",
       "    <tr>\n",
       "      <th>4</th>\n",
       "      <td>68e24781c61b7a78edbf604f</td>\n",
       "      <td>Б.Батцэцэг: Д.Амарбаясгалан дүүдээ хэлэхэд алб...</td>\n",
       "      <td>УИХ-ын гишүүн Б.Батцэцэг цаг үеийн асуудлаар м...</td>\n",
       "      <td>https://mgl.gogo.mn/newsn/thumbnail/72/np/2025...</td>\n",
       "      <td>Г.Тэгшсүрэн</td>\n",
       "      <td>https://gogo.mn/r/yk5llg</td>\n",
       "      <td>Улс төр</td>\n",
       "      <td>2025-10-03</td>\n",
       "    </tr>\n",
       "  </tbody>\n",
       "</table>\n",
       "</div>"
      ],
      "text/plain": [
       "                        _id  \\\n",
       "0  68e24772c61b7a78edbf604b   \n",
       "1  68e24776c61b7a78edbf604c   \n",
       "2  68e24779c61b7a78edbf604d   \n",
       "3  68e2477dc61b7a78edbf604e   \n",
       "4  68e24781c61b7a78edbf604f   \n",
       "\n",
       "                                               title  \\\n",
       "0  “Би Ерөнхийлөгчтэй байнгын холбоотой ажилладаг...   \n",
       "1  Д.Батлут: Чуулганы хуралдаандаа суухаар иртэл ...   \n",
       "2  Туркийн Үндэсний Батлан хамгаалахын сайд Монго...   \n",
       "3  Канад, Ираны Элчин сайд нар Итгэмжлэх жуух бич...   \n",
       "4  Б.Батцэцэг: Д.Амарбаясгалан дүүдээ хэлэхэд алб...   \n",
       "\n",
       "                                             content  \\\n",
       "0  УИХ-ын дарга Д.Амарбаясгалан сэтгүүлчдэд мэдээ...   \n",
       "1  УИХ-ын чуулганы хуралдаан долоо хоног бүрийн п...   \n",
       "2  Турк Улсын Үндэсний Батлан хамгаалахын сайд Яш...   \n",
       "3  Ерөнхийлөгч У.Хүрэлсүхэд Канад, Иран улсын Элч...   \n",
       "4  УИХ-ын гишүүн Б.Батцэцэг цаг үеийн асуудлаар м...   \n",
       "\n",
       "                                               image       author  \\\n",
       "0  https://mgl.gogo.mn/newsn/thumbnail/72/images/...  Г.Тэгшсүрэн   \n",
       "1  https://mgl.gogo.mn/newsn/thumbnail/72/images/...  Г.Тэгшсүрэн   \n",
       "2  https://mgl.gogo.mn/newsn/thumbnail/72/images/...      А.Номин   \n",
       "3  https://mgl.gogo.mn/newsn/thumbnail/1000/image...      А.Номин   \n",
       "4  https://mgl.gogo.mn/newsn/thumbnail/72/np/2025...  Г.Тэгшсүрэн   \n",
       "\n",
       "                       link category published_at  \n",
       "0  https://gogo.mn/r/n6l33y  Улс төр   2025-10-03  \n",
       "1  https://gogo.mn/r/4m0oon  Улс төр   2025-10-03  \n",
       "2  https://gogo.mn/r/j0eww6  Улс төр   2025-10-03  \n",
       "3  https://gogo.mn/r/gej115  Улс төр   2025-10-03  \n",
       "4  https://gogo.mn/r/yk5llg  Улс төр   2025-10-03  "
      ]
     },
     "execution_count": 17,
     "metadata": {},
     "output_type": "execute_result"
    }
   ],
   "source": [
    "cursor=news_collection.find({})\n",
    "listed=list(cursor)\n",
    "df=DataFrame(listed)\n",
    "df.head()"
   ]
  },
  {
   "cell_type": "code",
   "execution_count": null,
   "id": "67cf7a30",
   "metadata": {},
   "outputs": [
    {
     "name": "stdout",
     "output_type": "stream",
     "text": [
      "<class 'pandas.core.frame.DataFrame'>\n",
      "RangeIndex: 133 entries, 0 to 132\n",
      "Data columns (total 8 columns):\n",
      " #   Column        Non-Null Count  Dtype         \n",
      "---  ------        --------------  -----         \n",
      " 0   _id           133 non-null    object        \n",
      " 1   title         133 non-null    object        \n",
      " 2   content       133 non-null    object        \n",
      " 3   image         90 non-null     object        \n",
      " 4   author        132 non-null    object        \n",
      " 5   link          133 non-null    object        \n",
      " 6   category      133 non-null    object        \n",
      " 7   published_at  126 non-null    datetime64[ns]\n",
      "dtypes: datetime64[ns](1), object(7)\n",
      "memory usage: 8.4+ KB\n"
     ]
    }
   ],
   "source": [
    "df.info()"
   ]
  },
  {
   "cell_type": "code",
   "execution_count": null,
   "id": "585c3336",
   "metadata": {},
   "outputs": [],
   "source": [
    "df['_id'] = df['_id'].astype(str)"
   ]
  },
  {
   "cell_type": "code",
   "execution_count": null,
   "id": "58b2897d",
   "metadata": {},
   "outputs": [
    {
     "data": {
      "text/plain": [
       "_id              0\n",
       "title            0\n",
       "content          0\n",
       "image           43\n",
       "author           1\n",
       "link             0\n",
       "category         0\n",
       "published_at     7\n",
       "dtype: int64"
      ]
     },
     "execution_count": 20,
     "metadata": {},
     "output_type": "execute_result"
    }
   ],
   "source": [
    "df.isnull().sum()"
   ]
  },
  {
   "cell_type": "code",
   "execution_count": null,
   "id": "c979db9f",
   "metadata": {},
   "outputs": [
    {
     "name": "stdout",
     "output_type": "stream",
     "text": [
      "_id             0\n",
      "title           0\n",
      "content         0\n",
      "author          1\n",
      "category        0\n",
      "published_at    7\n",
      "dtype: int64\n"
     ]
    }
   ],
   "source": [
    "df.drop(['image','link'],axis=1,inplace=True)\n",
    "print(df.isna().sum())"
   ]
  },
  {
   "cell_type": "code",
   "execution_count": null,
   "id": "e5f7311d",
   "metadata": {},
   "outputs": [
    {
     "name": "stdout",
     "output_type": "stream",
     "text": [
      "_id             0\n",
      "title           0\n",
      "content         0\n",
      "author          0\n",
      "category        0\n",
      "published_at    7\n",
      "dtype: int64\n"
     ]
    },
    {
     "name": "stderr",
     "output_type": "stream",
     "text": [
      "/var/folders/vb/7b1kw_mn7672zy_wxnktghz80000gn/T/ipykernel_3109/3544272394.py:1: FutureWarning: A value is trying to be set on a copy of a DataFrame or Series through chained assignment using an inplace method.\n",
      "The behavior will change in pandas 3.0. This inplace method will never work because the intermediate object on which we are setting values always behaves as a copy.\n",
      "\n",
      "For example, when doing 'df[col].method(value, inplace=True)', try using 'df.method({col: value}, inplace=True)' or df[col] = df[col].method(value) instead, to perform the operation inplace on the original object.\n",
      "\n",
      "\n",
      "  df[\"author\"].fillna(df[\"author\"].mode()[0],inplace=True)\n"
     ]
    }
   ],
   "source": [
    "df[\"author\"].fillna(df[\"author\"].mode()[0],inplace=True)\n",
    "print(df.isna().sum())"
   ]
  },
  {
   "cell_type": "code",
   "execution_count": null,
   "id": "a1fe8a90",
   "metadata": {},
   "outputs": [
    {
     "name": "stdout",
     "output_type": "stream",
     "text": [
      "_id             0\n",
      "title           0\n",
      "content         0\n",
      "author          0\n",
      "category        0\n",
      "published_at    0\n",
      "dtype: int64\n"
     ]
    },
    {
     "name": "stderr",
     "output_type": "stream",
     "text": [
      "/var/folders/vb/7b1kw_mn7672zy_wxnktghz80000gn/T/ipykernel_3109/402516565.py:1: FutureWarning: A value is trying to be set on a copy of a DataFrame or Series through chained assignment using an inplace method.\n",
      "The behavior will change in pandas 3.0. This inplace method will never work because the intermediate object on which we are setting values always behaves as a copy.\n",
      "\n",
      "For example, when doing 'df[col].method(value, inplace=True)', try using 'df.method({col: value}, inplace=True)' or df[col] = df[col].method(value) instead, to perform the operation inplace on the original object.\n",
      "\n",
      "\n",
      "  df[\"published_at\"].fillna(df[\"published_at\"].median(),inplace=True)\n"
     ]
    }
   ],
   "source": [
    "df[\"published_at\"].fillna(df[\"published_at\"].median(),inplace=True)\n",
    "print(df.isna().sum())"
   ]
  },
  {
   "cell_type": "code",
   "execution_count": null,
   "id": "d59609c1",
   "metadata": {},
   "outputs": [],
   "source": [
    "tfidf = TfidfVectorizer(lowercase=True,analyzer='word', max_features=5000)\n",
    "tf_matrix = tfidf.fit_transform(df['title'] + \" \" + df['content'])"
   ]
  },
  {
   "cell_type": "code",
   "execution_count": null,
   "id": "308fab96",
   "metadata": {},
   "outputs": [],
   "source": [
    "cosine_sim = linear_kernel(tf_matrix, tf_matrix)\n",
    "indices = pd.Series(df.index, index=df['_id']).drop_duplicates()"
   ]
  },
  {
   "cell_type": "code",
   "execution_count": null,
   "id": "4b51e178",
   "metadata": {},
   "outputs": [
    {
     "data": {
      "text/plain": [
       "array([[1.        , 0.08046281, 0.03551675, ..., 0.08479254, 0.06676268,\n",
       "        0.11309287],\n",
       "       [0.08046281, 1.        , 0.17710583, ..., 0.05452715, 0.08992354,\n",
       "        0.05079009],\n",
       "       [0.03551675, 0.17710583, 1.        , ..., 0.08451423, 0.03464466,\n",
       "        0.07421728],\n",
       "       ...,\n",
       "       [0.08479254, 0.05452715, 0.08451423, ..., 1.        , 0.10099244,\n",
       "        0.18660658],\n",
       "       [0.06676268, 0.08992354, 0.03464466, ..., 0.10099244, 1.        ,\n",
       "        0.19098016],\n",
       "       [0.11309287, 0.05079009, 0.07421728, ..., 0.18660658, 0.19098016,\n",
       "        1.        ]], shape=(133, 133))"
      ]
     },
     "execution_count": 26,
     "metadata": {},
     "output_type": "execute_result"
    }
   ],
   "source": [
    "cosine_similarity = linear_kernel(tf_matrix, tf_matrix)\n",
    "cosine_similarity"
   ]
  },
  {
   "cell_type": "code",
   "execution_count": null,
   "id": "f0f454e1",
   "metadata": {},
   "outputs": [],
   "source": [
    "def recommender(news_id):\n",
    "    idx = indices[news_id]\n",
    "    sim_scores = list(enumerate(cosine_similarity[idx]))\n",
    "    sim_scores = sorted(sim_scores, key=lambda x: x[1], reverse=True)\n",
    "    sim_scores = sim_scores[1:31]\n",
    "    movie_indices = [i[0] for i in sim_scores]\n",
    "    return df[\"title\"].iloc[movie_indices]"
   ]
  },
  {
   "cell_type": "code",
   "execution_count": null,
   "id": "ed6318b1",
   "metadata": {},
   "outputs": [
    {
     "name": "stdout",
     "output_type": "stream",
     "text": [
      "\n",
      "✅ Recommended news IDs: 4      Б.Батцэцэг: Д.Амарбаясгалан дүүдээ хэлэхэд алб...\n",
      "132    Г.Амартүвшин: Төрийн өмчийн бодлого зохицуулал...\n",
      "75                    БАГШ НАР: Бид ажилтай ядуус болсон\n",
      "111    Цагдаа нар зочид буудалд гэнэтийн шалгалт хийх...\n",
      "9      Д амин дэмээр баяжуулсан сүү ууснаар амьсгалын...\n",
      "36     Монголын соёлыг чулуугаар илэрхийлсэн Торү Күр...\n",
      "Name: title, dtype: object\n"
     ]
    }
   ],
   "source": [
    "recs = recommender(\n",
    "    \"68e24772c61b7a78edbf604b\")\n",
    "\n",
    "print(\"\\n✅ Recommended news IDs:\", recs[::5])\n"
   ]
  },
  {
   "cell_type": "code",
   "execution_count": null,
   "id": "c93c1433",
   "metadata": {},
   "outputs": [],
   "source": []
  }
 ],
 "metadata": {
  "kernelspec": {
   "display_name": ".venv",
   "language": "python",
   "name": "python3"
  },
  "language_info": {
   "codemirror_mode": {
    "name": "ipython",
    "version": 3
   },
   "file_extension": ".py",
   "mimetype": "text/x-python",
   "name": "python",
   "nbconvert_exporter": "python",
   "pygments_lexer": "ipython3",
   "version": "3.13.7"
  }
 },
 "nbformat": 4,
 "nbformat_minor": 5
}
